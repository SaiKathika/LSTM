{
  "nbformat": 4,
  "nbformat_minor": 0,
  "metadata": {
    "colab": {
      "name": "RNN - LSTM.ipynb",
      "provenance": [],
      "authorship_tag": "ABX9TyP0ovYLXQhjGPmE8yA89NY+",
      "include_colab_link": true
    },
    "kernelspec": {
      "name": "python3",
      "display_name": "Python 3"
    },
    "language_info": {
      "name": "python"
    }
  },
  "cells": [
    {
      "cell_type": "markdown",
      "metadata": {
        "id": "view-in-github",
        "colab_type": "text"
      },
      "source": [
        "<a href=\"https://colab.research.google.com/github/SaiKathika/LSTM/blob/main/RNN_LSTM.ipynb\" target=\"_parent\"><img src=\"https://colab.research.google.com/assets/colab-badge.svg\" alt=\"Open In Colab\"/></a>"
      ]
    },
    {
      "cell_type": "code",
      "metadata": {
        "id": "lBPlvlQBFFBF"
      },
      "source": [
        "import pandas_datareader as web\n",
        "import numpy as np\n",
        "import math\n",
        "import pandas as pd\n",
        "from sklearn.preprocessing import MinMaxScaler\n",
        "#from keras.models import Sequential\n",
        "#from keras.layers import Dense, LSTM\n",
        "from tensorflow.python.keras.layers import Dense, LSTM\n",
        "from tensorflow.python.keras import Sequential\n",
        "import matplotlib.pyplot as plt\n",
        "plt.style.use('bmh')"
      ],
      "execution_count": 4,
      "outputs": []
    },
    {
      "cell_type": "code",
      "metadata": {
        "colab": {
          "base_uri": "https://localhost:8080/",
          "height": 450
        },
        "id": "7r7YO43K8Qyb",
        "outputId": "4795c024-02b6-4c3c-c9e5-e970236f7f39"
      },
      "source": [
        "#get the data\n",
        "df = web.DataReader('RELIANCE.NS', 'yahoo', '2016-01-01')\n",
        "df"
      ],
      "execution_count": 5,
      "outputs": [
        {
          "output_type": "execute_result",
          "data": {
            "text/html": [
              "<div>\n",
              "<style scoped>\n",
              "    .dataframe tbody tr th:only-of-type {\n",
              "        vertical-align: middle;\n",
              "    }\n",
              "\n",
              "    .dataframe tbody tr th {\n",
              "        vertical-align: top;\n",
              "    }\n",
              "\n",
              "    .dataframe thead th {\n",
              "        text-align: right;\n",
              "    }\n",
              "</style>\n",
              "<table border=\"1\" class=\"dataframe\">\n",
              "  <thead>\n",
              "    <tr style=\"text-align: right;\">\n",
              "      <th></th>\n",
              "      <th>High</th>\n",
              "      <th>Low</th>\n",
              "      <th>Open</th>\n",
              "      <th>Close</th>\n",
              "      <th>Volume</th>\n",
              "      <th>Adj Close</th>\n",
              "    </tr>\n",
              "    <tr>\n",
              "      <th>Date</th>\n",
              "      <th></th>\n",
              "      <th></th>\n",
              "      <th></th>\n",
              "      <th></th>\n",
              "      <th></th>\n",
              "      <th></th>\n",
              "    </tr>\n",
              "  </thead>\n",
              "  <tbody>\n",
              "    <tr>\n",
              "      <th>2016-01-01</th>\n",
              "      <td>504.666260</td>\n",
              "      <td>499.366516</td>\n",
              "      <td>500.158997</td>\n",
              "      <td>502.907928</td>\n",
              "      <td>2499742.0</td>\n",
              "      <td>486.556549</td>\n",
              "    </tr>\n",
              "    <tr>\n",
              "      <th>2016-01-04</th>\n",
              "      <td>502.140198</td>\n",
              "      <td>488.717438</td>\n",
              "      <td>497.781525</td>\n",
              "      <td>492.977081</td>\n",
              "      <td>13923887.0</td>\n",
              "      <td>476.948639</td>\n",
              "    </tr>\n",
              "    <tr>\n",
              "      <th>2016-01-05</th>\n",
              "      <td>500.258057</td>\n",
              "      <td>493.819092</td>\n",
              "      <td>495.453583</td>\n",
              "      <td>497.855835</td>\n",
              "      <td>6897687.0</td>\n",
              "      <td>481.668732</td>\n",
              "    </tr>\n",
              "    <tr>\n",
              "      <th>2016-01-06</th>\n",
              "      <td>514.324707</td>\n",
              "      <td>495.503113</td>\n",
              "      <td>499.069336</td>\n",
              "      <td>511.253815</td>\n",
              "      <td>12349673.0</td>\n",
              "      <td>494.631134</td>\n",
              "    </tr>\n",
              "    <tr>\n",
              "      <th>2016-01-07</th>\n",
              "      <td>509.173553</td>\n",
              "      <td>499.292206</td>\n",
              "      <td>505.731171</td>\n",
              "      <td>501.867798</td>\n",
              "      <td>9109980.0</td>\n",
              "      <td>485.550232</td>\n",
              "    </tr>\n",
              "    <tr>\n",
              "      <th>...</th>\n",
              "      <td>...</td>\n",
              "      <td>...</td>\n",
              "      <td>...</td>\n",
              "      <td>...</td>\n",
              "      <td>...</td>\n",
              "      <td>...</td>\n",
              "    </tr>\n",
              "    <tr>\n",
              "      <th>2021-03-25</th>\n",
              "      <td>2054.000000</td>\n",
              "      <td>1985.000000</td>\n",
              "      <td>2054.000000</td>\n",
              "      <td>1991.449951</td>\n",
              "      <td>10153757.0</td>\n",
              "      <td>1991.449951</td>\n",
              "    </tr>\n",
              "    <tr>\n",
              "      <th>2021-03-26</th>\n",
              "      <td>2013.699951</td>\n",
              "      <td>1973.699951</td>\n",
              "      <td>2012.000000</td>\n",
              "      <td>1994.650024</td>\n",
              "      <td>9313160.0</td>\n",
              "      <td>1994.650024</td>\n",
              "    </tr>\n",
              "    <tr>\n",
              "      <th>2021-03-30</th>\n",
              "      <td>2048.899902</td>\n",
              "      <td>1991.550049</td>\n",
              "      <td>2008.000000</td>\n",
              "      <td>2029.300049</td>\n",
              "      <td>9433842.0</td>\n",
              "      <td>2029.300049</td>\n",
              "    </tr>\n",
              "    <tr>\n",
              "      <th>2021-03-31</th>\n",
              "      <td>2049.899902</td>\n",
              "      <td>1999.000000</td>\n",
              "      <td>2018.000000</td>\n",
              "      <td>2003.099976</td>\n",
              "      <td>7499740.0</td>\n",
              "      <td>2003.099976</td>\n",
              "    </tr>\n",
              "    <tr>\n",
              "      <th>2021-04-01</th>\n",
              "      <td>2030.000000</td>\n",
              "      <td>2003.150024</td>\n",
              "      <td>2018.000000</td>\n",
              "      <td>2021.849976</td>\n",
              "      <td>5410307.0</td>\n",
              "      <td>2021.849976</td>\n",
              "    </tr>\n",
              "  </tbody>\n",
              "</table>\n",
              "<p>1294 rows × 6 columns</p>\n",
              "</div>"
            ],
            "text/plain": [
              "                   High          Low  ...      Volume    Adj Close\n",
              "Date                                  ...                         \n",
              "2016-01-01   504.666260   499.366516  ...   2499742.0   486.556549\n",
              "2016-01-04   502.140198   488.717438  ...  13923887.0   476.948639\n",
              "2016-01-05   500.258057   493.819092  ...   6897687.0   481.668732\n",
              "2016-01-06   514.324707   495.503113  ...  12349673.0   494.631134\n",
              "2016-01-07   509.173553   499.292206  ...   9109980.0   485.550232\n",
              "...                 ...          ...  ...         ...          ...\n",
              "2021-03-25  2054.000000  1985.000000  ...  10153757.0  1991.449951\n",
              "2021-03-26  2013.699951  1973.699951  ...   9313160.0  1994.650024\n",
              "2021-03-30  2048.899902  1991.550049  ...   9433842.0  2029.300049\n",
              "2021-03-31  2049.899902  1999.000000  ...   7499740.0  2003.099976\n",
              "2021-04-01  2030.000000  2003.150024  ...   5410307.0  2021.849976\n",
              "\n",
              "[1294 rows x 6 columns]"
            ]
          },
          "metadata": {
            "tags": []
          },
          "execution_count": 5
        }
      ]
    },
    {
      "cell_type": "code",
      "metadata": {
        "colab": {
          "base_uri": "https://localhost:8080/",
          "height": 513
        },
        "id": "wuq_DpJq-Pg2",
        "outputId": "a1795d68-6bdb-4ced-8a5d-08523db602ce"
      },
      "source": [
        "plt.figure(figsize=(16,8))\n",
        "plt.title('Reliance Stock Closing Price')\n",
        "plt.xlabel('Days')\n",
        "plt.ylabel('Close Price')\n",
        "plt.plot(df['Close'])\n",
        "plt.show()"
      ],
      "execution_count": 6,
      "outputs": [
        {
          "output_type": "display_data",
          "data": {
            "image/png": "[encoded data removed]",
            "text/plain": [
              "<Figure size 1152x576 with 1 Axes>"
            ]
          },
          "metadata": {
            "tags": [],
            "needs_background": "light"
          }
        }
      ]
    },
    {
      "cell_type": "code",
      "metadata": {
        "colab": {
          "base_uri": "https://localhost:8080/",
          "height": 235
        },
        "id": "PWFh5KV1_Y1M",
        "outputId": "2dd772ec-3b18-431f-98e7-a4bb308fae56"
      },
      "source": [
        "data = df[['Close']]\n",
        "data.head(5)"
      ],
      "execution_count": 7,
      "outputs": [
        {
          "output_type": "execute_result",
          "data": {
            "text/html": [
              "<div>\n",
              "<style scoped>\n",
              "    .dataframe tbody tr th:only-of-type {\n",
              "        vertical-align: middle;\n",
              "    }\n",
              "\n",
              "    .dataframe tbody tr th {\n",
              "        vertical-align: top;\n",
              "    }\n",
              "\n",
              "    .dataframe thead th {\n",
              "        text-align: right;\n",
              "    }\n",
              "</style>\n",
              "<table border=\"1\" class=\"dataframe\">\n",
              "  <thead>\n",
              "    <tr style=\"text-align: right;\">\n",
              "      <th></th>\n",
              "      <th>Close</th>\n",
              "    </tr>\n",
              "    <tr>\n",
              "      <th>Date</th>\n",
              "      <th></th>\n",
              "    </tr>\n",
              "  </thead>\n",
              "  <tbody>\n",
              "    <tr>\n",
              "      <th>2016-01-01</th>\n",
              "      <td>502.907928</td>\n",
              "    </tr>\n",
              "    <tr>\n",
              "      <th>2016-01-04</th>\n",
              "      <td>492.977081</td>\n",
              "    </tr>\n",
              "    <tr>\n",
              "      <th>2016-01-05</th>\n",
              "      <td>497.855835</td>\n",
              "    </tr>\n",
              "    <tr>\n",
              "      <th>2016-01-06</th>\n",
              "      <td>511.253815</td>\n",
              "    </tr>\n",
              "    <tr>\n",
              "      <th>2016-01-07</th>\n",
              "      <td>501.867798</td>\n",
              "    </tr>\n",
              "  </tbody>\n",
              "</table>\n",
              "</div>"
            ],
            "text/plain": [
              "                 Close\n",
              "Date                  \n",
              "2016-01-01  502.907928\n",
              "2016-01-04  492.977081\n",
              "2016-01-05  497.855835\n",
              "2016-01-06  511.253815\n",
              "2016-01-07  501.867798"
            ]
          },
          "metadata": {
            "tags": []
          },
          "execution_count": 7
        }
      ]
    },
    {
      "cell_type": "code",
      "metadata": {
        "colab": {
          "base_uri": "https://localhost:8080/"
        },
        "id": "abbBtMCA_9LV",
        "outputId": "7185250b-98a7-4306-81ce-2059c4fd8d9a"
      },
      "source": [
        "dataset = data.values   #numpy array\n",
        "#rows\n",
        "train_data_length = math.ceil(len(dataset) * .8)   #80% training data\n",
        "train_data_length"
      ],
      "execution_count": 8,
      "outputs": [
        {
          "output_type": "execute_result",
          "data": {
            "text/plain": [
              "1036"
            ]
          },
          "metadata": {
            "tags": []
          },
          "execution_count": 8
        }
      ]
    },
    {
      "cell_type": "code",
      "metadata": {
        "colab": {
          "base_uri": "https://localhost:8080/"
        },
        "id": "xiHpU5ySBeOi",
        "outputId": "94a13589-1eac-493f-f30a-06c20bf2c5f6"
      },
      "source": [
        "#preprocessing the data i.e. scaling to the input data before it is added to the RNN\n",
        "scale = MinMaxScaler(feature_range=(0, 1))\n",
        "scaled_data = scale.fit_transform(dataset)\n",
        "scaled_data"
      ],
      "execution_count": 9,
      "outputs": [
        {
          "output_type": "execute_result",
          "data": {
            "text/plain": [
              "array([[0.02873276],\n",
              "       [0.02343781],\n",
              "       [0.02603907],\n",
              "       ...,\n",
              "       [0.84257794],\n",
              "       [0.82860853],\n",
              "       [0.83860569]])"
            ]
          },
          "metadata": {
            "tags": []
          },
          "execution_count": 9
        }
      ]
    },
    {
      "cell_type": "code",
      "metadata": {
        "id": "2J3rbAPhDAcQ"
      },
      "source": [
        "#Scaled training data set\n",
        "train_data = scaled_data[0:train_data_length, :]  #rows = 80%, columns = all"
      ],
      "execution_count": 10,
      "outputs": []
    },
    {
      "cell_type": "code",
      "metadata": {
        "colab": {
          "base_uri": "https://localhost:8080/"
        },
        "id": "lt0FTAyYGAEx",
        "outputId": "78e2b035-a095-4227-9c3d-19ad2719ba0d"
      },
      "source": [
        "#split the data into x_train and y_train\n",
        "x_train, y_train = [], []\n",
        "\n",
        "for i in range(60, len(train_data)):\n",
        "  x_train.append(train_data[i-60:i, 0])   #x_train has 1st 60 i.e. 0 to 59 values\n",
        "  y_train.append(train_data[i, 0])        #y_train has 60th value\n",
        "\n",
        "  if(i<=60):\n",
        "    print(x_train)\n",
        "    print(y_train)"
      ],
      "execution_count": 11,
      "outputs": [
        {
          "output_type": "stream",
          "text": [
            "[array([0.02873276, 0.02343781, 0.02603907, 0.03318264, 0.02817818,\n",
            "       0.03147928, 0.03830594, 0.03668179, 0.04497417, 0.04096004,\n",
            "       0.04403664, 0.02912889, 0.03619326, 0.02588062, 0.02050643,\n",
            "       0.02577497, 0.02572215, 0.02450736, 0.0291421 , 0.03402773,\n",
            "       0.03268088, 0.02498272, 0.01976697, 0.01756185, 0.01699406,\n",
            "       0.0143928 , 0.01345529, 0.01481533, 0.00475358, 0.        ,\n",
            "       0.01061634, 0.00633811, 0.01216125, 0.00886015, 0.00998252,\n",
            "       0.01472291, 0.01138219, 0.01217446, 0.00991651, 0.01156705,\n",
            "       0.01587169, 0.01974057, 0.02507515, 0.02807255, 0.02636917,\n",
            "       0.03180939, 0.03569148, 0.02778205, 0.0285083 , 0.02989475,\n",
            "       0.03009282, 0.03042292, 0.02890442, 0.03186221, 0.03452951,\n",
            "       0.03731563, 0.03239038, 0.0300664 , 0.03425221, 0.03710436])]\n",
            "[0.03661579620748742]\n"
          ],
          "name": "stdout"
        }
      ]
    },
    {
      "cell_type": "code",
      "metadata": {
        "id": "ztg7PIGCMUsA"
      },
      "source": [
        "#convert x_train & y_train to numpy\n",
        "x_train, y_train = np.array(x_train), np.array(y_train)"
      ],
      "execution_count": 12,
      "outputs": []
    },
    {
      "cell_type": "code",
      "metadata": {
        "colab": {
          "base_uri": "https://localhost:8080/"
        },
        "id": "29kB9EWbPGIu",
        "outputId": "e764499e-0ce8-49dc-94b2-e122fcdfd112"
      },
      "source": [
        "x_train.shape"
      ],
      "execution_count": 13,
      "outputs": [
        {
          "output_type": "execute_result",
          "data": {
            "text/plain": [
              "(976, 60)"
            ]
          },
          "metadata": {
            "tags": []
          },
          "execution_count": 13
        }
      ]
    },
    {
      "cell_type": "code",
      "metadata": {
        "colab": {
          "base_uri": "https://localhost:8080/"
        },
        "id": "OAxfw1zzPvjV",
        "outputId": "bb2ee828-2262-44ae-94bd-89aa8afb2ce3"
      },
      "source": [
        "#reshape the data to 3-Dimensional dataset\n",
        "x_train = np.reshape(x_train, (x_train.shape[0], x_train.shape[1], 1))    #976, 60, 1(features = close price)\n",
        "x_train.shape"
      ],
      "execution_count": 14,
      "outputs": [
        {
          "output_type": "execute_result",
          "data": {
            "text/plain": [
              "(976, 60, 1)"
            ]
          },
          "metadata": {
            "tags": []
          },
          "execution_count": 14
        }
      ]
    },
    {
      "cell_type": "code",
      "metadata": {
        "id": "-eld1NXCQKqs"
      },
      "source": [
        "#LSTM model\n",
        "model = Sequential()\n",
        "model.add(LSTM(50, return_sequences = True, input_shape = (x_train.shape[1], 1)))    #first layer with 50 neurons, return_sequences were true bcoz we need another layer\n",
        "model.add(LSTM(50, return_sequences = False))   #second layer with 50 neurons\n",
        "model.add(Dense(25))    #dense layer with 25 neurons\n",
        "model.add(Dense(1))"
      ],
      "execution_count": 15,
      "outputs": []
    },
    {
      "cell_type": "code",
      "metadata": {
        "id": "hdQ6JxxTB_h4"
      },
      "source": [
        "#Compile the model\n",
        "model.compile(optimizer='adam', loss = 'mean_squared_error')    #optimizer improve upon the loss function, loss functions measures the loss"
      ],
      "execution_count": 16,
      "outputs": []
    },
    {
      "cell_type": "code",
      "metadata": {
        "colab": {
          "base_uri": "https://localhost:8080/"
        },
        "id": "vOPaH4zACbnC",
        "outputId": "714beb86-1a1f-4f62-dc2d-7f6ec8c893d3"
      },
      "source": [
        "#train the model\n",
        "model.fit(x_train, y_train, batch_size = 1, epochs = 1)"
      ],
      "execution_count": 17,
      "outputs": [
        {
          "output_type": "stream",
          "text": [
            "976/976 [==============================] - 65s 63ms/step - loss: 0.0072\n"
          ],
          "name": "stdout"
        },
        {
          "output_type": "execute_result",
          "data": {
            "text/plain": [
              "<tensorflow.python.keras.callbacks.History at 0x7f5874326050>"
            ]
          },
          "metadata": {
            "tags": []
          },
          "execution_count": 17
        }
      ]
    },
    {
      "cell_type": "code",
      "metadata": {
        "id": "sM6FQ8FrDHN5"
      },
      "source": [
        "#Create testing dataset\n",
        "test_data = scaled_data[train_data_length - 60:, :]   #scaled values from 976:\n",
        "#create x_test and y_test datasets\n",
        "x_test = []\n",
        "y_test = dataset[train_data_length:, :]\n",
        "for i in range(60, len(test_data)):\n",
        "  x_test.append(test_data[i-60:i, 0])"
      ],
      "execution_count": 18,
      "outputs": []
    },
    {
      "cell_type": "code",
      "metadata": {
        "id": "r83l8Ly2ETtb"
      },
      "source": [
        "#convert data to numpy\n",
        "x_test = np.array(x_test)"
      ],
      "execution_count": 19,
      "outputs": []
    },
    {
      "cell_type": "code",
      "metadata": {
        "colab": {
          "base_uri": "https://localhost:8080/"
        },
        "id": "CFIYDYvjE1bf",
        "outputId": "b7abe597-3727-4dab-8524-9cfecbf1a176"
      },
      "source": [
        "x_test.shape"
      ],
      "execution_count": 20,
      "outputs": [
        {
          "output_type": "execute_result",
          "data": {
            "text/plain": [
              "(258, 60)"
            ]
          },
          "metadata": {
            "tags": []
          },
          "execution_count": 20
        }
      ]
    },
    {
      "cell_type": "code",
      "metadata": {
        "id": "eFphNjy0EePV"
      },
      "source": [
        "#reshape the data to 3D\n",
        "x_test = np.reshape(x_test, (x_test.shape[0], x_test.shape[1], 1))"
      ],
      "execution_count": 21,
      "outputs": []
    },
    {
      "cell_type": "code",
      "metadata": {
        "id": "eUABDsJtE86S"
      },
      "source": [
        "#Get the predicted values\n",
        "predictions = model.predict(x_test)\n",
        "predictions = scale.inverse_transform(predictions)"
      ],
      "execution_count": 23,
      "outputs": []
    },
    {
      "cell_type": "code",
      "metadata": {
        "colab": {
          "base_uri": "https://localhost:8080/"
        },
        "id": "0J1jOqIrF_2W",
        "outputId": "8e8e724f-5e54-4bcb-a035-b23b6c670b69"
      },
      "source": [
        "#Get root mean squared error (RMSE)\n",
        "rmse = np.sqrt(np.mean(predictions - y_test)**2)\n",
        "rmse"
      ],
      "execution_count": 26,
      "outputs": [
        {
          "output_type": "execute_result",
          "data": {
            "text/plain": [
              "88.67616189173026"
            ]
          },
          "metadata": {
            "tags": []
          },
          "execution_count": 26
        }
      ]
    },
    {
      "cell_type": "code",
      "metadata": {
        "colab": {
          "base_uri": "https://localhost:8080/"
        },
        "id": "GLDWW3v1HcOT",
        "outputId": "7e9d72c2-6e4f-42cc-fa54-60689ab41efa"
      },
      "source": [
        "#Plot the data \n",
        "train = data[:train_data_length]\n",
        "valid = data[train_data_length:]\n",
        "valid['Predictions'] = predictions\n",
        "print(len(predictions))"
      ],
      "execution_count": 29,
      "outputs": [
        {
          "output_type": "stream",
          "text": [
            "258\n"
          ],
          "name": "stdout"
        },
        {
          "output_type": "stream",
          "text": [
            "/usr/local/lib/python3.7/dist-packages/ipykernel_launcher.py:4: SettingWithCopyWarning: \n",
            "A value is trying to be set on a copy of a slice from a DataFrame.\n",
            "Try using .loc[row_indexer,col_indexer] = value instead\n",
            "\n",
            "See the caveats in the documentation: https://pandas.pydata.org/pandas-docs/stable/user_guide/indexing.html#returning-a-view-versus-a-copy\n",
            "  after removing the cwd from sys.path.\n"
          ],
          "name": "stderr"
        }
      ]
    },
    {
      "cell_type": "code",
      "metadata": {
        "colab": {
          "base_uri": "https://localhost:8080/",
          "height": 513
        },
        "id": "FFxoyoVhIvMV",
        "outputId": "4a642d25-ec57-4537-b453-9fea7399e939"
      },
      "source": [
        "#Visualize the data\n",
        "plt.figure(figsize=(16,8))\n",
        "plt.title('LSTM Predictions')\n",
        "plt.xlabel('Days')\n",
        "plt.ylabel('Close Price INR')\n",
        "plt.plot(train['Close'])\n",
        "plt.plot(valid[['Close', 'Predictions']])\n",
        "plt.legend(['Train', 'Valid', 'Predictions'])\n",
        "plt.show()"
      ],
      "execution_count": 30,
      "outputs": [
        {
          "output_type": "display_data",
          "data": {
            "image/png": "[encoded data removed]",
            "text/plain": [
              "<Figure size 1152x576 with 1 Axes>"
            ]
          },
          "metadata": {
            "tags": [],
            "needs_background": "light"
          }
        }
      ]
    },
    {
      "cell_type": "code",
      "metadata": {
        "colab": {
          "base_uri": "https://localhost:8080/",
          "height": 450
        },
        "id": "5hQ3rJILJzwu",
        "outputId": "b0f4cf45-f4cb-4897-8955-c4d42eb7369d"
      },
      "source": [
        "#valid and predicted prices\n",
        "valid"
      ],
      "execution_count": 31,
      "outputs": [
        {
          "output_type": "execute_result",
          "data": {
            "text/html": [
              "<div>\n",
              "<style scoped>\n",
              "    .dataframe tbody tr th:only-of-type {\n",
              "        vertical-align: middle;\n",
              "    }\n",
              "\n",
              "    .dataframe tbody tr th {\n",
              "        vertical-align: top;\n",
              "    }\n",
              "\n",
              "    .dataframe thead th {\n",
              "        text-align: right;\n",
              "    }\n",
              "</style>\n",
              "<table border=\"1\" class=\"dataframe\">\n",
              "  <thead>\n",
              "    <tr style=\"text-align: right;\">\n",
              "      <th></th>\n",
              "      <th>Close</th>\n",
              "      <th>Predictions</th>\n",
              "    </tr>\n",
              "    <tr>\n",
              "      <th>Date</th>\n",
              "      <th></th>\n",
              "      <th></th>\n",
              "    </tr>\n",
              "  </thead>\n",
              "  <tbody>\n",
              "    <tr>\n",
              "      <th>2020-03-19</th>\n",
              "      <td>909.082825</td>\n",
              "      <td>1093.576904</td>\n",
              "    </tr>\n",
              "    <tr>\n",
              "      <th>2020-03-20</th>\n",
              "      <td>1008.391479</td>\n",
              "      <td>1058.419312</td>\n",
              "    </tr>\n",
              "    <tr>\n",
              "      <th>2020-03-23</th>\n",
              "      <td>875.748779</td>\n",
              "      <td>1032.646606</td>\n",
              "    </tr>\n",
              "    <tr>\n",
              "      <th>2020-03-24</th>\n",
              "      <td>934.541504</td>\n",
              "      <td>1004.887085</td>\n",
              "    </tr>\n",
              "    <tr>\n",
              "      <th>2020-03-25</th>\n",
              "      <td>1072.087646</td>\n",
              "      <td>982.343994</td>\n",
              "    </tr>\n",
              "    <tr>\n",
              "      <th>...</th>\n",
              "      <td>...</td>\n",
              "      <td>...</td>\n",
              "    </tr>\n",
              "    <tr>\n",
              "      <th>2021-03-25</th>\n",
              "      <td>1991.449951</td>\n",
              "      <td>1986.753540</td>\n",
              "    </tr>\n",
              "    <tr>\n",
              "      <th>2021-03-26</th>\n",
              "      <td>1994.650024</td>\n",
              "      <td>1975.948364</td>\n",
              "    </tr>\n",
              "    <tr>\n",
              "      <th>2021-03-30</th>\n",
              "      <td>2029.300049</td>\n",
              "      <td>1964.289307</td>\n",
              "    </tr>\n",
              "    <tr>\n",
              "      <th>2021-03-31</th>\n",
              "      <td>2003.099976</td>\n",
              "      <td>1955.702026</td>\n",
              "    </tr>\n",
              "    <tr>\n",
              "      <th>2021-04-01</th>\n",
              "      <td>2021.849976</td>\n",
              "      <td>1947.607544</td>\n",
              "    </tr>\n",
              "  </tbody>\n",
              "</table>\n",
              "<p>258 rows × 2 columns</p>\n",
              "</div>"
            ],
            "text/plain": [
              "                  Close  Predictions\n",
              "Date                                \n",
              "2020-03-19   909.082825  1093.576904\n",
              "2020-03-20  1008.391479  1058.419312\n",
              "2020-03-23   875.748779  1032.646606\n",
              "2020-03-24   934.541504  1004.887085\n",
              "2020-03-25  1072.087646   982.343994\n",
              "...                 ...          ...\n",
              "2021-03-25  1991.449951  1986.753540\n",
              "2021-03-26  1994.650024  1975.948364\n",
              "2021-03-30  2029.300049  1964.289307\n",
              "2021-03-31  2003.099976  1955.702026\n",
              "2021-04-01  2021.849976  1947.607544\n",
              "\n",
              "[258 rows x 2 columns]"
            ]
          },
          "metadata": {
            "tags": []
          },
          "execution_count": 31
        }
      ]
    },
    {
      "cell_type": "code",
      "metadata": {
        "colab": {
          "base_uri": "https://localhost:8080/"
        },
        "id": "hpDIDm1JK8Qg",
        "outputId": "4c59ecbb-05ff-4bff-e816-af38367105ed"
      },
      "source": [
        "reliance = web.DataReader('RELIANCE.NS', 'yahoo', start='2016-01-01')\n",
        "new_df = reliance[['Close']]\n",
        "last_60_days = new_df[-60:].values\n",
        "last_60_days_scaled = scale.transform(last_60_days)\n",
        "X_test = []\n",
        "X_test.append(last_60_days_scaled)\n",
        "X_test = np.array(X_test)\n",
        "X_test = np.reshape(X_test, (X_test.shape[0], X_test.shape[1], 1))\n",
        "predicted_price = model.predict(X_test)\n",
        "predicted_price = scale.inverse_transform(predicted_price)\n",
        "print(predicted_price)"
      ],
      "execution_count": 39,
      "outputs": [
        {
          "output_type": "stream",
          "text": [
            "[[1941.9945]]\n"
          ],
          "name": "stdout"
        }
      ]
    }
  ]
}